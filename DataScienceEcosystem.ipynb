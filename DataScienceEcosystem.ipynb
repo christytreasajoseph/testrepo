{
 "cells": [
  {
   "cell_type": "markdown",
   "id": "ce0936e6-c181-4b15-9f2a-51ba95588675",
   "metadata": {},
   "source": [
    "# Data Science Tools and Ecosystem"
   ]
  },
  {
   "cell_type": "markdown",
   "id": "c8cfd668-043a-4cc3-b935-5bdf0e81c723",
   "metadata": {},
   "source": [
    "In this notebook, Data Science Tools and Ecosystem are summarized.\n"
   ]
  },
  {
   "cell_type": "markdown",
   "id": "fd2a86a3-82d6-4009-a759-a43bedd692ee",
   "metadata": {},
   "source": [
    "Some of the popular languages that Data Scientists use are:\r",
    "1. Python\n",
    "2. R\n",
    "3. SQL\n"
   ]
  },
  {
   "cell_type": "markdown",
   "id": "9b3661af-7762-4d86-9e9c-8ece63f60d8a",
   "metadata": {},
   "source": [
    "Some of the commonly used libraries used by Data Scientists include:\n",
    "1. Pandas\n",
    "2. NumPy\n",
    "3. scikit-learn"
   ]
  },
  {
   "cell_type": "markdown",
   "id": "2895e313-444e-4c4e-9c01-e26bbf24e81e",
   "metadata": {},
   "source": [
    "|Data Science Tools|\n",
    "|------------------|\n",
    "| Jupyter Notebook |\n",
    "| RStudio |\n",
    "| VS Code|"
   ]
  },
  {
   "cell_type": "markdown",
   "id": "a3bbf504-e536-4c48-9694-952e1c1959b9",
   "metadata": {},
   "source": [
    "### Below are a few examples of evaluating arithmetic expressions in Python.\n"
   ]
  },
  {
   "cell_type": "code",
   "execution_count": 1,
   "id": "da108418-f3a8-4a7e-b38d-38932cd81844",
   "metadata": {},
   "outputs": [
    {
     "data": {
      "text/plain": [
       "17"
      ]
     },
     "execution_count": 1,
     "metadata": {},
     "output_type": "execute_result"
    }
   ],
   "source": [
    "# This is a simple arithmetic expression to multiply then add integers\n",
    "(3*4) + 5"
   ]
  },
  {
   "cell_type": "code",
   "execution_count": 2,
   "id": "aaecb593-baa7-42d4-a74b-ca05f7311ea5",
   "metadata": {},
   "outputs": [
    {
     "data": {
      "text/plain": [
       "3.3333333333333335"
      ]
     },
     "execution_count": 2,
     "metadata": {},
     "output_type": "execute_result"
    }
   ],
   "source": [
    "# This will convert 200 minutes to hours by dividing by 60\n",
    "200 / 60"
   ]
  },
  {
   "cell_type": "markdown",
   "id": "478413c0-ff51-4a93-a1c1-2b425e70083e",
   "metadata": {},
   "source": [
    "**Objectives:**\n",
    "- List popular languages for Data Science.\n",
    "- Discuss commonly used Data Science libraries.\n",
    "- Create tables and lists in Jupyter notebooks.\n",
    "- Demonstrate basic arithmetic operations in Python.\n",
    "- Convert time units in Python."
   ]
  },
  {
   "cell_type": "markdown",
   "id": "b8813ebf-18a3-45dd-b342-ee49f475e158",
   "metadata": {},
   "source": [
    "## Author\n",
    "\n",
    "Christy Treasa Joseph"
   ]
  },
  {
   "cell_type": "code",
   "execution_count": null,
   "id": "cb17309c-72e7-4826-8768-cb972574b917",
   "metadata": {},
   "outputs": [],
   "source": []
  }
 ],
 "metadata": {
  "kernelspec": {
   "display_name": "Python 3 (ipykernel)",
   "language": "python",
   "name": "python3"
  },
  "language_info": {
   "codemirror_mode": {
    "name": "ipython",
    "version": 3
   },
   "file_extension": ".py",
   "mimetype": "text/x-python",
   "name": "python",
   "nbconvert_exporter": "python",
   "pygments_lexer": "ipython3",
   "version": "3.12.4"
  }
 },
 "nbformat": 4,
 "nbformat_minor": 5
}
